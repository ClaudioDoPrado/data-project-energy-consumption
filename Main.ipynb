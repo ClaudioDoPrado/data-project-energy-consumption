{
   "cells": [
      {
         "cell_type": "code",
         "execution_count": 5,
         "metadata": {},
         "outputs": [
            {
               "data": {
                  "text/plain": [
                     "<module 'energy_type' from '/Users/ger/IH_LABS/data-project-energy-consumption/energy_type.py'>"
                  ]
               },
               "execution_count": 5,
               "metadata": {},
               "output_type": "execute_result"
            }
         ],
         "source": [
            "import importlib\n",
            "\n",
            "import countries_table\n",
            "import total_energy\n",
            "import energy_type\n",
            "\n",
            "importlib.reload(countries_table)\n",
            "importlib.reload(total_energy)\n",
            "importlib.reload(energy_type)"
         ]
      },
      {
         "cell_type": "code",
         "execution_count": null,
         "metadata": {},
         "outputs": [],
         "source": [
            "countries_full_df = countries_table.load_dataframe()\n",
            "clean_countries = countries_table.clean_dataframe(countries_full_df)\n",
            "countries_table.create_csv(clean_countries, 'countries.csv')"
         ]
      },
      {
         "cell_type": "code",
         "execution_count": 45,
         "metadata": {},
         "outputs": [],
         "source": [
            "energy_type.load_csv()"
         ]
      },
      {
         "cell_type": "code",
         "execution_count": null,
         "metadata": {},
         "outputs": [],
         "source": [
            "countries_table.create_csv(clean_countries, 'countries.csv')"
         ]
      },
      {
         "cell_type": "code",
         "execution_count": 6,
         "metadata": {},
         "outputs": [],
         "source": [
            "total_energy.create_total_energy_csv()"
         ]
      }
   ],
   "metadata": {
      "kernelspec": {
         "display_name": "Python 3",
         "language": "python",
         "name": "python3"
      },
      "language_info": {
         "codemirror_mode": {
            "name": "ipython",
            "version": 3
         },
         "file_extension": ".py",
         "mimetype": "text/x-python",
         "name": "python",
         "nbconvert_exporter": "python",
         "pygments_lexer": "ipython3",
         "version": "3.8.5"
      }
   },
   "nbformat": 4,
   "nbformat_minor": 4
}
