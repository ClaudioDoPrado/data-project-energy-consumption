{
   "cells": [
      {
         "cell_type": "code",
         "execution_count": null,
         "metadata": {},
         "outputs": [],
         "source": [
            "import importlib\n",
            "\n",
            "import countries_table\n",
            "import total_energy\n",
            "import energy_type\n",
            "\n",
            "importlib.reload(countries_table)\n",
            "importlib.reload(total_energy)\n",
            "importlib.reload(energy_type)"
         ]
      },
      {
         "cell_type": "code",
         "execution_count": null,
         "metadata": {},
         "outputs": [],
         "source": [
            "countries_full_df = countries_table.load_dataframe()\n",
            "clean_countries = countries_table.clean_dataframe(countries_full_df)"
         ]
      },
      {
         "cell_type": "code",
         "execution_count": null,
         "metadata": {},
         "outputs": [],
         "source": [
            "energy_type_df = energy_type.load_csv()"
         ]
      },
      {
         "cell_type": "code",
         "execution_count": null,
         "metadata": {},
         "outputs": [],
         "source": [
            "total_energy_df = total_energy.create_total_energy_csv()"
         ]
      },
      {
         "cell_type": "code",
         "execution_count": null,
         "metadata": {},
         "outputs": [],
         "source": [
            "import pandas as pd\n",
            "import numpy as np\n",
            "import pymysql\n",
            "from sqlalchemy import create_engine, text\n",
            "\n",
            "import getpass  # To get the password without showing the input\n",
            "password = getpass.getpass()\n",
            "\n",
            "db = \"energy_stats\"\n",
            "connection_string = 'mysql+pymysql://root:' + password + '@localhost/'+db\n",
            "engine = create_engine(connection_string)\n",
            "engine"
         ]
      },
      {
         "cell_type": "code",
         "execution_count": null,
         "metadata": {},
         "outputs": [],
         "source": [
            "clean_countries.to_sql(name='countries', con=engine, schema='energy_stats', if_exists='replace', index=False)\n",
            "energy_type_df.to_sql(name='energy_type', con=engine, schema='energy_stats', if_exists='replace', index=False)\n",
            "total_energy_df.to_sql(name='total_energy', con=engine, schema='energy_stats', if_exists='replace', index=False)"
         ]
      }
   ],
   "metadata": {
      "kernelspec": {
         "display_name": "Python 3",
         "language": "python",
         "name": "python3"
      },
      "language_info": {
         "codemirror_mode": {
            "name": "ipython",
            "version": 3
         },
         "file_extension": ".py",
         "mimetype": "text/x-python",
         "name": "python",
         "nbconvert_exporter": "python",
         "pygments_lexer": "ipython3",
         "version": "3.8.5"
      }
   },
   "nbformat": 4,
   "nbformat_minor": 4
}
