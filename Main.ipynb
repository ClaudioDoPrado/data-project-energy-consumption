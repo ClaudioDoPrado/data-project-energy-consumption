{
 "cells": [
  {
   "cell_type": "code",
   "execution_count": 43,
   "metadata": {},
   "outputs": [
    {
     "data": {
      "text/plain": [
       "<module 'energy_type' from 'C:\\\\Users\\\\gebruiker\\\\IH_LESSONS\\\\Projects\\\\SQL_first_project\\\\data-project-energy-consumption\\\\energy_type.py'>"
      ]
     },
     "execution_count": 43,
     "metadata": {},
     "output_type": "execute_result"
    }
   ],
   "source": [
    "import importlib\n",
    "\n",
    "import countries_table\n",
    "import total_energy\n",
    "import energy_type\n",
    "\n",
    "importlib.reload(countries_table)\n",
    "importlib.reload(total_energy)\n",
    "importlib.reload(energy_type)"
   ]
  },
  {
   "cell_type": "code",
   "execution_count": 39,
   "metadata": {},
   "outputs": [
    {
     "name": "stdout",
     "output_type": "stream",
     "text": [
      "Hola estoy en el archivo de funciones\n"
     ]
    }
   ],
   "source": [
    "total_energy.sayHi()"
   ]
  },
  {
   "cell_type": "code",
   "execution_count": 45,
   "metadata": {},
   "outputs": [
    {
     "data": {
      "text/html": [
       "<div>\n",
       "<style scoped>\n",
       "    .dataframe tbody tr th:only-of-type {\n",
       "        vertical-align: middle;\n",
       "    }\n",
       "\n",
       "    .dataframe tbody tr th {\n",
       "        vertical-align: top;\n",
       "    }\n",
       "\n",
       "    .dataframe thead th {\n",
       "        text-align: right;\n",
       "    }\n",
       "</style>\n",
       "<table border=\"1\" class=\"dataframe\">\n",
       "  <thead>\n",
       "    <tr style=\"text-align: right;\">\n",
       "      <th></th>\n",
       "      <th>Country</th>\n",
       "      <th>Year</th>\n",
       "      <th>Renewable_Energy_Share__%</th>\n",
       "      <th>Fossil_Fuel_Dependency__%</th>\n",
       "      <th>Total_Energy_Consumption__TWh</th>\n",
       "    </tr>\n",
       "  </thead>\n",
       "  <tbody>\n",
       "    <tr>\n",
       "      <th>0</th>\n",
       "      <td>Canada</td>\n",
       "      <td>2018</td>\n",
       "      <td>13.70</td>\n",
       "      <td>70.47</td>\n",
       "      <td>9525.38</td>\n",
       "    </tr>\n",
       "    <tr>\n",
       "      <th>1</th>\n",
       "      <td>Germany</td>\n",
       "      <td>2020</td>\n",
       "      <td>33.63</td>\n",
       "      <td>41.95</td>\n",
       "      <td>7922.08</td>\n",
       "    </tr>\n",
       "    <tr>\n",
       "      <th>2</th>\n",
       "      <td>Russia</td>\n",
       "      <td>2002</td>\n",
       "      <td>10.82</td>\n",
       "      <td>39.32</td>\n",
       "      <td>6630.01</td>\n",
       "    </tr>\n",
       "    <tr>\n",
       "      <th>3</th>\n",
       "      <td>Brazil</td>\n",
       "      <td>2010</td>\n",
       "      <td>73.24</td>\n",
       "      <td>16.71</td>\n",
       "      <td>8580.19</td>\n",
       "    </tr>\n",
       "    <tr>\n",
       "      <th>4</th>\n",
       "      <td>Canada</td>\n",
       "      <td>2006</td>\n",
       "      <td>73.60</td>\n",
       "      <td>74.86</td>\n",
       "      <td>848.88</td>\n",
       "    </tr>\n",
       "    <tr>\n",
       "      <th>...</th>\n",
       "      <td>...</td>\n",
       "      <td>...</td>\n",
       "      <td>...</td>\n",
       "      <td>...</td>\n",
       "      <td>...</td>\n",
       "    </tr>\n",
       "    <tr>\n",
       "      <th>9995</th>\n",
       "      <td>Canada</td>\n",
       "      <td>2017</td>\n",
       "      <td>14.87</td>\n",
       "      <td>70.25</td>\n",
       "      <td>9786.50</td>\n",
       "    </tr>\n",
       "    <tr>\n",
       "      <th>9996</th>\n",
       "      <td>UK</td>\n",
       "      <td>2011</td>\n",
       "      <td>89.00</td>\n",
       "      <td>16.55</td>\n",
       "      <td>7200.88</td>\n",
       "    </tr>\n",
       "    <tr>\n",
       "      <th>9997</th>\n",
       "      <td>India</td>\n",
       "      <td>2011</td>\n",
       "      <td>46.65</td>\n",
       "      <td>68.06</td>\n",
       "      <td>2579.82</td>\n",
       "    </tr>\n",
       "    <tr>\n",
       "      <th>9998</th>\n",
       "      <td>UK</td>\n",
       "      <td>2020</td>\n",
       "      <td>43.43</td>\n",
       "      <td>68.57</td>\n",
       "      <td>5950.39</td>\n",
       "    </tr>\n",
       "    <tr>\n",
       "      <th>9999</th>\n",
       "      <td>Brazil</td>\n",
       "      <td>2018</td>\n",
       "      <td>89.62</td>\n",
       "      <td>49.97</td>\n",
       "      <td>5387.71</td>\n",
       "    </tr>\n",
       "  </tbody>\n",
       "</table>\n",
       "<p>10000 rows × 5 columns</p>\n",
       "</div>"
      ],
      "text/plain": [
       "      Country  Year  Renewable_Energy_Share__%  Fossil_Fuel_Dependency__%  \\\n",
       "0      Canada  2018                      13.70                      70.47   \n",
       "1     Germany  2020                      33.63                      41.95   \n",
       "2      Russia  2002                      10.82                      39.32   \n",
       "3      Brazil  2010                      73.24                      16.71   \n",
       "4      Canada  2006                      73.60                      74.86   \n",
       "...       ...   ...                        ...                        ...   \n",
       "9995   Canada  2017                      14.87                      70.25   \n",
       "9996       UK  2011                      89.00                      16.55   \n",
       "9997    India  2011                      46.65                      68.06   \n",
       "9998       UK  2020                      43.43                      68.57   \n",
       "9999   Brazil  2018                      89.62                      49.97   \n",
       "\n",
       "      Total_Energy_Consumption__TWh  \n",
       "0                           9525.38  \n",
       "1                           7922.08  \n",
       "2                           6630.01  \n",
       "3                           8580.19  \n",
       "4                            848.88  \n",
       "...                             ...  \n",
       "9995                        9786.50  \n",
       "9996                        7200.88  \n",
       "9997                        2579.82  \n",
       "9998                        5950.39  \n",
       "9999                        5387.71  \n",
       "\n",
       "[10000 rows x 5 columns]"
      ]
     },
     "execution_count": 45,
     "metadata": {},
     "output_type": "execute_result"
    }
   ],
   "source": [
    "energy_type.load_csv()"
   ]
  },
  {
   "cell_type": "code",
   "execution_count": null,
   "metadata": {},
   "outputs": [],
   "source": []
  }
 ],
 "metadata": {
  "kernelspec": {
   "display_name": "Python [conda env:base] *",
   "language": "python",
   "name": "conda-base-py"
  },
  "language_info": {
   "codemirror_mode": {
    "name": "ipython",
    "version": 3
   },
   "file_extension": ".py",
   "mimetype": "text/x-python",
   "name": "python",
   "nbconvert_exporter": "python",
   "pygments_lexer": "ipython3",
   "version": "3.12.7"
  }
 },
 "nbformat": 4,
 "nbformat_minor": 4
}
